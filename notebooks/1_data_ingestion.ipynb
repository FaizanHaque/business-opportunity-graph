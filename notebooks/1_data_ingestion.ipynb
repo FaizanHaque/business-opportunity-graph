{
 "cells": [
  {
   "cell_type": "code",
   "execution_count": 3,
   "id": "752993d2",
   "metadata": {},
   "outputs": [
    {
     "name": "stdout",
     "output_type": "stream",
     "text": [
      "Requirement already satisfied: psycopg2 in /Library/Frameworks/Python.framework/Versions/3.13/lib/python3.13/site-packages (2.9.10)\n",
      "\n",
      "\u001b[1m[\u001b[0m\u001b[34;49mnotice\u001b[0m\u001b[1;39;49m]\u001b[0m\u001b[39;49m A new release of pip is available: \u001b[0m\u001b[31;49m24.3.1\u001b[0m\u001b[39;49m -> \u001b[0m\u001b[32;49m25.2\u001b[0m\n",
      "\u001b[1m[\u001b[0m\u001b[34;49mnotice\u001b[0m\u001b[1;39;49m]\u001b[0m\u001b[39;49m To update, run: \u001b[0m\u001b[32;49mpip3 install --upgrade pip\u001b[0m\n"
     ]
    }
   ],
   "source": [
    "!pip3 install psycopg2"
   ]
  },
  {
   "cell_type": "markdown",
   "id": "2d9d07ad",
   "metadata": {},
   "source": [
    "Connect to Database `nourish@awesome-hw.sdsc.edu`"
   ]
  },
  {
   "cell_type": "code",
   "execution_count": 28,
   "id": "8ece9714",
   "metadata": {},
   "outputs": [],
   "source": [
    "import psycopg2\n",
    "\n",
    "class Database:\n",
    "    def __init__(self):\n",
    "        self.conn = psycopg2.connect(\n",
    "            host=\"awesome-hw.sdsc.edu\",\n",
    "            port=5432,\n",
    "            dbname=\"nourish\",\n",
    "            user=\"swhoyle\",\n",
    "            password=\"dse203#2025\"\n",
    "        )\n",
    "\n",
    "    def query(self, sql):\n",
    "        try:\n",
    "            with self.conn.cursor() as cursor:\n",
    "                cursor.execute(sql)\n",
    "                columns = [c.name for c in cursor.description]\n",
    "                rows = cursor.fetchall()\n",
    "\n",
    "            results = [dict(zip(columns, row)) for row in rows]\n",
    "        except Exception as e:\n",
    "            print(f\"Error executing query: {e}\")\n",
    "            self.conn.rollback()\n",
    "        return results\n",
    "\n",
    "\n",
    "db = Database()"
   ]
  },
  {
   "cell_type": "markdown",
   "id": "fd6ab994",
   "metadata": {},
   "source": [
    "Save Entity data to JSON files (`data/<entity>.json`)"
   ]
  },
  {
   "cell_type": "code",
   "execution_count": 31,
   "id": "e737cdf9",
   "metadata": {},
   "outputs": [],
   "source": [
    "import json\n",
    "\n",
    "entities = [\"state\", \"county\", \"city\", \"community\", \"zipcode\"]\n",
    "\n",
    "for entity in entities:\n",
    "    results = db.query(f\"SELECT * FROM entity_{entity};\")\n",
    "    with open(f\"../data/{entity}.json\", \"w\") as f:\n",
    "        json.dump(results, f)"
   ]
  },
  {
   "cell_type": "markdown",
   "id": "5277fdce",
   "metadata": {},
   "source": [
    "Save Relationship data to JSON file (`data/relationships.json`)"
   ]
  },
  {
   "cell_type": "code",
   "execution_count": 32,
   "id": "25a96f11",
   "metadata": {},
   "outputs": [],
   "source": [
    "results = db.query(\"SELECT * FROM entity_relationships;\")\n",
    "with open(\"../data/relationships.json\", \"w\") as f:\n",
    "    json.dump(results, f)"
   ]
  }
 ],
 "metadata": {
  "kernelspec": {
   "display_name": "Python 3",
   "language": "python",
   "name": "python3"
  },
  "language_info": {
   "codemirror_mode": {
    "name": "ipython",
    "version": 3
   },
   "file_extension": ".py",
   "mimetype": "text/x-python",
   "name": "python",
   "nbconvert_exporter": "python",
   "pygments_lexer": "ipython3",
   "version": "3.13.2"
  }
 },
 "nbformat": 4,
 "nbformat_minor": 5
}
