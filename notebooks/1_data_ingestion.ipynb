{
 "cells": [
  {
   "cell_type": "markdown",
   "id": "0f518c9d",
   "metadata": {},
   "source": [
    "Packages"
   ]
  },
  {
   "cell_type": "code",
   "execution_count": 46,
   "id": "752993d2",
   "metadata": {},
   "outputs": [
    {
     "name": "stdout",
     "output_type": "stream",
     "text": [
      "Requirement already satisfied: psycopg2 in /Library/Frameworks/Python.framework/Versions/3.13/lib/python3.13/site-packages (2.9.10)\n",
      "\n",
      "\u001b[1m[\u001b[0m\u001b[34;49mnotice\u001b[0m\u001b[1;39;49m]\u001b[0m\u001b[39;49m A new release of pip is available: \u001b[0m\u001b[31;49m24.3.1\u001b[0m\u001b[39;49m -> \u001b[0m\u001b[32;49m25.2\u001b[0m\n",
      "\u001b[1m[\u001b[0m\u001b[34;49mnotice\u001b[0m\u001b[1;39;49m]\u001b[0m\u001b[39;49m To update, run: \u001b[0m\u001b[32;49mpip3 install --upgrade pip\u001b[0m\n",
      "Collecting neo4j\n",
      "  Downloading neo4j-6.0.2-py3-none-any.whl.metadata (5.2 kB)\n",
      "Requirement already satisfied: pytz in /Library/Frameworks/Python.framework/Versions/3.13/lib/python3.13/site-packages (from neo4j) (2025.1)\n",
      "Downloading neo4j-6.0.2-py3-none-any.whl (325 kB)\n",
      "Installing collected packages: neo4j\n",
      "Successfully installed neo4j-6.0.2\n",
      "\n",
      "\u001b[1m[\u001b[0m\u001b[34;49mnotice\u001b[0m\u001b[1;39;49m]\u001b[0m\u001b[39;49m A new release of pip is available: \u001b[0m\u001b[31;49m24.3.1\u001b[0m\u001b[39;49m -> \u001b[0m\u001b[32;49m25.2\u001b[0m\n",
      "\u001b[1m[\u001b[0m\u001b[34;49mnotice\u001b[0m\u001b[1;39;49m]\u001b[0m\u001b[39;49m To update, run: \u001b[0m\u001b[32;49mpip3 install --upgrade pip\u001b[0m\n"
     ]
    }
   ],
   "source": [
    "!pip3 install psycopg2\n",
    "!pip3 install neo4j"
   ]
  },
  {
   "cell_type": "code",
   "execution_count": null,
   "id": "b8825492",
   "metadata": {},
   "outputs": [],
   "source": [
    "import pandas as pd\n",
    "import json\n",
    "import psycopg2\n",
    "from neo4j import GraphDatabase"
   ]
  },
  {
   "cell_type": "markdown",
   "id": "2d9d07ad",
   "metadata": {},
   "source": [
    "#### Connect to Database `nourish@awesome-hw.sdsc.edu`"
   ]
  },
  {
   "cell_type": "code",
   "execution_count": null,
   "id": "8ece9714",
   "metadata": {},
   "outputs": [
    {
     "name": "stdout",
     "output_type": "stream",
     "text": [
      "PostgreSQL 12.18 (Ubuntu 12.18-0ubuntu0.20.04.1) on x86_64-pc-linux-gnu, compiled by gcc (Ubuntu 9.4.0-1ubuntu1~20.04.2) 9.4.0, 64-bit\n",
      "363 tables found in the database.\n"
     ]
    }
   ],
   "source": [
    "conn = psycopg2.connect(\n",
    "    host=\"awesome-hw.sdsc.edu\",\n",
    "    port=5432,\n",
    "    dbname=\"nourish\",\n",
    "    user=\"swhoyle\",\n",
    "    password=\"dse203#2025\"\n",
    ")\n",
    "\n",
    "with conn.cursor() as cursor:\n",
    "    cursor.execute(\"SELECT version();\")\n",
    "    print(cursor.fetchone()[0])\n",
    "\n",
    "    cursor.execute(\"SELECT COUNT(*) FROM INFORMATION_SCHEMA.TABLES\")\n",
    "    print(cursor.fetchall()[0][0], \"tables found in the database.\")"
   ]
  },
  {
   "cell_type": "markdown",
   "id": "fd6ab994",
   "metadata": {},
   "source": [
    "#### Create Entity tables and export data to JSON files"
   ]
  },
  {
   "cell_type": "code",
   "execution_count": null,
   "id": "e737cdf9",
   "metadata": {},
   "outputs": [
    {
     "name": "stdout",
     "output_type": "stream",
     "text": [
      "Creating entity tables...\n",
      "Exporting entity tables to JSON files...\n",
      "-- state.json exported.\n",
      "-- county.json exported.\n",
      "-- city.json exported.\n",
      "-- community.json exported.\n",
      "-- zipcode.json exported.\n"
     ]
    }
   ],
   "source": [
    "\n",
    "# Create entity tables\n",
    "print(\"Creating entity tables...\")\n",
    "with open (\"../scripts/create_entity_tables.sql\", \"r\") as f:\n",
    "    sql = f.read()\n",
    "with conn.cursor() as cursor:\n",
    "    cursor.execute(sql)\n",
    "    conn.commit()\n",
    "\n",
    "# Export entity tables to JSON files\n",
    "print(\"Exporting entity tables to JSON files...\")\n",
    "entities = [\"state\", \"county\", \"city\", \"community\", \"zipcode\"]\n",
    "for entity in entities:\n",
    "\n",
    "    with conn.cursor() as cursor:\n",
    "        cursor.execute(f\"SELECT * FROM entity_{entity};\")\n",
    "        columns = [desc[0] for desc in cursor.description]\n",
    "        rows = cursor.fetchall()\n",
    "        results = [dict(zip(columns, row)) for row in rows]\n",
    "\n",
    "    with open(f\"../data/{entity}.json\", \"w\") as f:\n",
    "        json.dump(results, f, indent=4)\n",
    "\n",
    "    print(f\"-- {entity}.json exported.\")"
   ]
  },
  {
   "cell_type": "markdown",
   "id": "5277fdce",
   "metadata": {},
   "source": [
    "#### Create relationship table and export data to JSON file"
   ]
  },
  {
   "cell_type": "code",
   "execution_count": 32,
   "id": "25a96f11",
   "metadata": {},
   "outputs": [
    {
     "name": "stdout",
     "output_type": "stream",
     "text": [
      "Creating relationship table...\n",
      "Exporting relationship table to JSON file...\n",
      "-- relationships.json exported.\n"
     ]
    }
   ],
   "source": [
    "# Create relationship table\n",
    "print(\"Creating relationship table...\")\n",
    "with open (\"../scripts/create_relationship_table.sql\", \"r\") as f:\n",
    "    sql = f.read()\n",
    "with conn.cursor() as cursor:\n",
    "    cursor.execute(sql)\n",
    "    conn.commit()\n",
    "\n",
    "\n",
    "# Export relationship table to JSON file\n",
    "print(\"Exporting relationship table to JSON file...\")\n",
    "with conn.cursor() as cursor:\n",
    "    cursor.execute(\"SELECT * FROM entity_relationships;\")\n",
    "    columns = [desc[0] for desc in cursor.description]\n",
    "    rows = cursor.fetchall()\n",
    "    results = [dict(zip(columns, row)) for row in rows]\n",
    "    \n",
    "with open(\"../data/relationships.json\", \"w\") as f:\n",
    "    json.dump(results, f, indent=4)\n",
    "\n",
    "print(f\"-- relationships.json exported.\")"
   ]
  },
  {
   "cell_type": "markdown",
   "id": "b2975c83",
   "metadata": {},
   "source": [
    "#### Connect to neo4j"
   ]
  },
  {
   "cell_type": "code",
   "execution_count": null,
   "id": "ddc86a53",
   "metadata": {},
   "outputs": [
    {
     "name": "stdout",
     "output_type": "stream",
     "text": [
      "242792 nodes in the graph\n"
     ]
    }
   ],
   "source": [
    "uri = \"bolt://awesome-compute.sdsc.edu:7687\"\n",
    "username = \"neo4j\"\n",
    "password = \"Vabv6YKC\"\n",
    "\n",
    "driver = GraphDatabase.driver(uri, auth=(username, password))\n",
    "with driver.session() as session:\n",
    "    result = session.run(\"MATCH (n) RETURN count(n) AS cnt\")\n",
    "    print(result.single()[\"cnt\"], \"nodes in the graph\")\n"
   ]
  },
  {
   "cell_type": "markdown",
   "id": "efc5bb49",
   "metadata": {},
   "source": [
    "#### Load Entities to neo4j"
   ]
  },
  {
   "cell_type": "code",
   "execution_count": 155,
   "id": "78a892a1",
   "metadata": {},
   "outputs": [
    {
     "name": "stdout",
     "output_type": "stream",
     "text": [
      "Ingesting entity data into Neo4j...\n",
      "\n",
      "Deleting existing nodes...\n",
      "-- 0 State nodes deleted.\n",
      "-- 0 County nodes deleted.\n",
      "-- 0 City nodes deleted.\n",
      "-- 0 Community nodes deleted.\n",
      "-- 0 Zipcode nodes deleted.\n",
      "\n",
      "Creating nodes...\n",
      "-- 1 State nodes created.\n",
      "-- 1 County nodes created.\n",
      "-- 54 City nodes created.\n",
      "-- 229 Community nodes created.\n",
      "-- 99 Zipcode nodes created.\n"
     ]
    }
   ],
   "source": [
    "print(\"Ingesting entity data into Neo4j...\")\n",
    "\n",
    "# Delete existing nodes:\n",
    "print(\"\\nDeleting existing nodes...\")\n",
    "for entity in entities:\n",
    "    \n",
    "    # Delete existing nodes of this entity type\n",
    "    entity_label = entity.capitalize()\n",
    "\n",
    "    with driver.session() as session:\n",
    "        existing_count = session.run(f\"MATCH (n:{entity_label}) RETURN count(n) AS cnt\").single()[\"cnt\"]\n",
    "        session.run(f\"MATCH (n:{entity_label}) DETACH DELETE n\")\n",
    "    print(f\"-- {existing_count} {entity_label} nodes deleted.\")\n",
    "\n",
    "\n",
    "print(f\"\\nCreating nodes...\")\n",
    "for entity in entities:\n",
    "\n",
    "    with open(f\"../data/{entity}.json\", \"r\") as f:\n",
    "        data = json.load(f)\n",
    "\n",
    "    # Delete existing nodes of this entity type\n",
    "    entity_label = entity.capitalize()\n",
    "\n",
    "    # Create nodes in neo4j for each entity\n",
    "    with driver.session() as session:\n",
    "        for record in data:\n",
    "            props = \", \".join([f\"{key}: ${key}\" for key in record.keys()])\n",
    "            query = f\"CREATE (n:{entity_label} {{{props}}})\"\n",
    "            session.run(query, **record)\n",
    "    print(f\"-- {len(data)} {entity_label} nodes created.\")"
   ]
  },
  {
   "cell_type": "markdown",
   "id": "13217c87",
   "metadata": {},
   "source": [
    "#### Query Entity data in neo4j"
   ]
  },
  {
   "cell_type": "code",
   "execution_count": 106,
   "id": "d0d98c9d",
   "metadata": {},
   "outputs": [
    {
     "name": "stdout",
     "output_type": "stream",
     "text": [
      "State: 1 node found.\n",
      "{'n': {'code': 'CA', 'name': 'California', 'id': 1}}\n",
      "\n",
      "County: 1 node found.\n",
      "{'n': {'name': 'San Diego', 'id': 37}}\n",
      "\n",
      "City: 54 nodes found.\n",
      "{'n': {'name': 'Poway', 'id': 20}}\n",
      "{'n': {'name': 'National City', 'id': 18}}\n",
      "...\n",
      "{'n': {'name': 'Oceanside', 'id': 19}}\n",
      "\n",
      "Community: 229 nodes found.\n",
      "{'n': {'name': 'Mission Grove', 'id': 253}}\n",
      "{'n': {'name': 'North City', 'id': 371}}\n",
      "...\n",
      "{'n': {'name': 'Midtown', 'id': 60}}\n",
      "\n",
      "Zipcode: 99 nodes found.\n",
      "{'n': {'zipcode': '91945'}}\n",
      "{'n': {'zipcode': '91901'}}\n",
      "...\n",
      "{'n': {'zipcode': '92128'}}\n",
      "\n"
     ]
    }
   ],
   "source": [
    "# For each entity, show top 3 nodes\n",
    "for entity in entities:\n",
    "    entity_label = entity.capitalize()\n",
    "    entity_count = driver.session().run(f\"MATCH (n:{entity_label}) RETURN count(n) AS cnt\").single()[\"cnt\"]\n",
    "    node_text = \"nodes\" if entity_count != 1 else \"node\"\n",
    "    print(f\"{entity_label}: {entity_count} {node_text} found.\")\n",
    "    with driver.session() as session:\n",
    "        result = session.run(f\"MATCH (n:{entity_label}) RETURN n LIMIT 3\")\n",
    "        i = 0\n",
    "        for record in result:\n",
    "            if i > 1:\n",
    "                print(\"...\")\n",
    "            print(record.data())\n",
    "            i += 1\n",
    "\n",
    "\n",
    "    print(\"\")"
   ]
  },
  {
   "cell_type": "markdown",
   "id": "be6bdc06",
   "metadata": {},
   "source": [
    "#### Add entity relationships to neo4j"
   ]
  },
  {
   "cell_type": "code",
   "execution_count": null,
   "id": "281d74a2",
   "metadata": {},
   "outputs": [
    {
     "name": "stdout",
     "output_type": "stream",
     "text": [
      "Deleting all existing relationships (edges) in Neo4j...\n",
      "-- 0 relationships deleted for State.\n",
      "-- 0 relationships deleted for County.\n",
      "-- 0 relationships deleted for City.\n",
      "-- 0 relationships deleted for Community.\n",
      "-- 0 relationships deleted for Zipcode.\n",
      "\n",
      "Creating relationships (edges) in Neo4j...\n",
      "City -[adjacent_to]-> City:                89 relationships created\n",
      "City -[nearby]-> City:                     226 relationships created\n",
      "City -[contained_in]-> County:             89 relationships created\n",
      "Community -[contained_in]-> City:          229 relationships created\n",
      "Community -[adjacent_to]-> Community:      879 relationships created\n",
      "Community -[nearby]-> Community:           1912 relationships created\n",
      "Community -[overlaps_with]-> Zipcode:      385 relationships created\n",
      "County -[adjacent_to]-> County:            7 relationships created\n",
      "County -[contained_in]-> State:            58 relationships created\n",
      "3874 relationships created.\n"
     ]
    }
   ],
   "source": [
    "with open(\"../data/relationships.json\", \"r\") as f:\n",
    "    data = json.load(f)\n",
    "\n",
    "print(\"Deleting all existing relationships (edges) in Neo4j...\")\n",
    "for entity in entities:\n",
    "    entity_label = entity.capitalize()\n",
    "    with driver.session() as session:\n",
    "        existing_count = session.run(f\"MATCH (n:{entity_label})-[r]->() RETURN count(r) AS cnt\").single()[\"cnt\"]\n",
    "        session.run(f\"MATCH (n:{entity_label})-[r]->() DELETE r\")\n",
    "    print(f\"-- {existing_count} relationships deleted for {entity_label}.\")\n",
    "\n",
    "\n",
    "print(\"\\nCreating relationships (edges) in Neo4j...\")\n",
    "\n",
    "df = pd.DataFrame(data)\n",
    "relationship_types = df.groupby([\"entitytype1\", \"entitytype2\", \"predicate\"]).size().reset_index(name=\"count\")\n",
    "for index, row in relationship_types.iterrows():\n",
    "    et1 = row[\"entitytype1\"].capitalize()\n",
    "    et2 = row[\"entitytype2\"].capitalize()\n",
    "    predicate = row[\"predicate\"]\n",
    "    count = row[\"count\"]\n",
    "    space = \" \" * (35 - (len(et1) + len(et2) + len(predicate)))\n",
    "\n",
    "    filtered_df = df[\n",
    "        (df[\"entitytype1\"] == row[\"entitytype1\"]) & \n",
    "        (df[\"entitytype2\"] == row[\"entitytype2\"]) & \n",
    "        (df[\"predicate\"] == row[\"predicate\"])\n",
    "    ]\n",
    "\n",
    "    for _, drow in filtered_df.iterrows():\n",
    "        entity1 = drow[\"entity1\"]\n",
    "        entity2 = drow[\"entity2\"]\n",
    "\n",
    "        with driver.session() as session:\n",
    "            query = (\n",
    "                f\"MATCH (a:{et1} {{name: $entity1}}), \"\n",
    "                f\"(b:{et2} {{name: $entity2}}) \"\n",
    "                f\"CREATE (a)-[r:{predicate}]->(b)\"\n",
    "            )\n",
    "            session.run(query, entity1=entity1, entity2=entity2)\n",
    "\n",
    "    print(f\"{et1} -[{predicate}]-> {et2}:{count} relationships created\")\n",
    "\n",
    "print(f\"\\n{len(data)} total relationships created.\")"
   ]
  },
  {
   "cell_type": "markdown",
   "id": "ee2e6b52",
   "metadata": {},
   "source": [
    "#### Query Entity Relationships"
   ]
  },
  {
   "cell_type": "code",
   "execution_count": 149,
   "id": "ff88a220",
   "metadata": {},
   "outputs": [
    {
     "name": "stdout",
     "output_type": "stream",
     "text": [
      "Communities within San Diego city:\n",
      "- Burlingame\n",
      "- Sherman Heights\n",
      "- Rancho Bernardo\n",
      "- Rancho Bernardo\n",
      "- Rancho Bernardo\n",
      "\n",
      "Cities nearby Poway:\n",
      "- Escondido\n",
      "- San Marcos\n",
      "- Santee\n",
      "\n",
      "Communities adjacent to College West:\n",
      "- Grantville\n",
      "- Kensington\n",
      "- El Cerrito\n",
      "- College East\n",
      "- College East\n"
     ]
    }
   ],
   "source": [
    "# View communities within \"San Diego\" city\n",
    "with driver.session() as session:\n",
    "    result = session.run(\n",
    "        \"MATCH (c:Community)-[:contained_in]->(ci:City) \"\n",
    "        \"WHERE ci.name = $city_name \"\n",
    "        \"RETURN c.name AS community_name LIMIT 5\",\n",
    "        city_name=\"San Diego\"\n",
    "    )\n",
    "    print(\"Communities within San Diego city:\")\n",
    "    for record in result:\n",
    "        print(f\"- {record['community_name']}\")\n",
    "\n",
    "\n",
    "\n",
    "# View cities nearby \"Poway\" city\n",
    "with driver.session() as session:\n",
    "    result = session.run(\n",
    "        \"MATCH (c1:City)-[:nearby]->(c2:City) \"\n",
    "        \"WHERE c1.name = $city_name \"\n",
    "        \"RETURN c2.name AS nearby_city LIMIT 5\",\n",
    "        city_name=\"Poway\"\n",
    "    )\n",
    "    print(\"\\nCities nearby Poway:\")\n",
    "    for record in result:\n",
    "        print(f\"- {record['nearby_city']}\")\n",
    "\n",
    "# View communities adjacent to \"College West\" community\n",
    "with driver.session() as session:\n",
    "    result = session.run(\n",
    "        \"MATCH (c1:Community)-[:adjacent_to]->(c2:Community) \"\n",
    "        \"WHERE c1.name = $community_name \"\n",
    "        \"RETURN c2.name AS adjacent_to LIMIT 5\",\n",
    "        community_name=\"College West\"\n",
    "    )\n",
    "    print(\"\\nCommunities adjacent to College West:\")\n",
    "    for record in result:\n",
    "        print(f\"- {record['adjacent_to']}\")"
   ]
  },
  {
   "cell_type": "code",
   "execution_count": 151,
   "id": "3969bf48",
   "metadata": {},
   "outputs": [
    {
     "name": "stdout",
     "output_type": "stream",
     "text": [
      "\n",
      "Cities in San Diego sorted by number of communities:\n",
      "- San Diego: 157 communities\n",
      "- Lemon Grove: 0 communities\n",
      "- Borrego Springs: 0 communities\n",
      "- Julian: 0 communities\n",
      "- Imperial Beach: 0 communities\n",
      "- Hidden Meadows: 0 communities\n",
      "- Jamul: 0 communities\n",
      "- Bonsall: 0 communities\n",
      "- Jacumba: 0 communities\n",
      "- Camp Pendleton North: 0 communities\n",
      "- Bostonia: 0 communities\n",
      "- Harbison Canyon: 0 communities\n",
      "- Boulevard: 0 communities\n",
      "- Winter Gardens: 0 communities\n",
      "- Valley Center: 0 communities\n",
      "- Spring Valley: 0 communities\n",
      "- Santee: 0 communities\n",
      "- Rancho Santa Fe: 0 communities\n",
      "- Ramona: 0 communities\n",
      "- Rainbow: 0 communities\n",
      "- Pala: 0 communities\n",
      "- La Presa: 0 communities\n",
      "- Lakeside: 0 communities\n",
      "- San Marcos: 0 communities\n",
      "- Rancho San Diego: 0 communities\n",
      "- Chula Vista: 0 communities\n",
      "- Carlsbad: 0 communities\n",
      "- La Mesa: 0 communities\n",
      "- Vista: 0 communities\n",
      "- Solana Beach: 0 communities\n",
      "- San Diego Country Estates: 0 communities\n",
      "- Escondido: 0 communities\n",
      "- Lake San Marcos: 0 communities\n",
      "- Pine Valley: 0 communities\n",
      "- Mount Laguna: 0 communities\n",
      "- Potrero: 0 communities\n",
      "- Casa de Oro-Mount Helix: 0 communities\n",
      "- Del Mar: 0 communities\n",
      "- El Cajon: 0 communities\n",
      "- Alpine: 0 communities\n",
      "- Bonita: 0 communities\n",
      "- Coronado: 0 communities\n",
      "- Granite Hills: 0 communities\n",
      "- Encinitas: 0 communities\n",
      "- Fairbanks Ranch: 0 communities\n",
      "- Fallbrook: 0 communities\n",
      "- Eucalyptus Hills: 0 communities\n",
      "- Camp Pendleton South: 0 communities\n",
      "- Campo: 0 communities\n",
      "- Descanso: 0 communities\n",
      "- Crest: 0 communities\n",
      "- Poway: 0 communities\n",
      "- National City: 0 communities\n",
      "- Oceanside: 0 communities\n"
     ]
    }
   ],
   "source": [
    "# View all cities in \"San Diego\", sortedd by number of communities (include 0 communities)\n",
    "with driver.session() as session:\n",
    "    result = session.run(\n",
    "        \"MATCH (ci:City) \"\n",
    "        \"OPTIONAL MATCH (ci)<-[:contained_in]-(c:Community) \"\n",
    "        \"WHERE ci.name = $city_name \"\n",
    "        \"RETURN ci.name AS city_name, count(c) AS community_count \"\n",
    "        \"ORDER BY community_count DESC\",\n",
    "        city_name=\"San Diego\"\n",
    "    )\n",
    "    print(\"\\nCities in San Diego sorted by number of communities:\")\n",
    "    for record in result:\n",
    "        print(f\"- {record['city_name']}: {record['community_count']} communities\")"
   ]
  },
  {
   "cell_type": "code",
   "execution_count": null,
   "id": "fd1021a0",
   "metadata": {},
   "outputs": [],
   "source": []
  }
 ],
 "metadata": {
  "kernelspec": {
   "display_name": "Python 3",
   "language": "python",
   "name": "python3"
  },
  "language_info": {
   "codemirror_mode": {
    "name": "ipython",
    "version": 3
   },
   "file_extension": ".py",
   "mimetype": "text/x-python",
   "name": "python",
   "nbconvert_exporter": "python",
   "pygments_lexer": "ipython3",
   "version": "3.13.2"
  }
 },
 "nbformat": 4,
 "nbformat_minor": 5
}
